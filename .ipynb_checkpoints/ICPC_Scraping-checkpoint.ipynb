{
 "cells": [
  {
   "cell_type": "markdown",
   "id": "e5894fb1-4276-4147-b232-c62c37ed8656",
   "metadata": {},
   "source": [
    "# ICPC-Scraping-Selenium\n",
    "\n",
    "Data Scraper: José Martínez, martinez307jose@gmail.com\n",
    "\n",
    "For an unreleased investigation coming soon, I scraped all the state official's emails from the ICPC website: http://icpcstatepages.org/ using Selenium.\n",
    "\n",
    "Given that it's 50 states, I was going to have to figure out how to scrape through all of them in one go. First, I noticed that the url for each state went as follow:\n",
    "http://icpcstatepages.org/Texas/info/. \n",
    "\n",
    "With that in mind, I just created a list of 50 urls and changed just the state name. All that was left was to create a loop that would go through each url in the list and scrape it.\n",
    "\n",
    "As for the scraping, I first begin by practicing on an individual state, in this case Alabama.\n",
    "\n",
    "I used Selenium because a lot of the emails were hyperlinks and thus operated under javascript, so BeautifulSoup or any other html parsers wouldn't have gotten the job done.\n",
    "\n",
    "Then, I had to clean A LOT because some scraped emails included unrelated text, there were duplicates, empty rows, etc.\n",
    "\n",
    "Finally, everything was exported to nice and simple csv where every email for every state official from every state can be easily accessed."
   ]
  },
  {
   "cell_type": "code",
   "execution_count": 1,
   "id": "25e8797a-9071-4864-8bbb-41e1cfec9ab2",
   "metadata": {},
   "outputs": [],
   "source": [
    "from selenium import webdriver"
   ]
  },
  {
   "cell_type": "code",
   "execution_count": 2,
   "id": "bc7c0ffa-6a85-4e93-882f-8a86f07d1820",
   "metadata": {},
   "outputs": [],
   "source": [
    "import pandas as pd"
   ]
  },
  {
   "cell_type": "code",
   "execution_count": 60,
   "id": "c776547f-5645-4f2a-ba21-8105bb1c3083",
   "metadata": {},
   "outputs": [],
   "source": [
    "pd.set_option('display.max_colwidth', None)"
   ]
  },
  {
   "cell_type": "code",
   "execution_count": 3,
   "id": "7c8a67ef-ee49-443a-8b97-ffc22e1044f7",
   "metadata": {},
   "outputs": [],
   "source": [
    "from selenium import webdriver \n",
    "from selenium.webdriver.common.by import By \n",
    "from selenium.webdriver.support.ui import WebDriverWait \n",
    "from selenium.webdriver.support import expected_conditions as EC \n",
    "from selenium.common.exceptions import TimeoutException"
   ]
  },
  {
   "cell_type": "code",
   "execution_count": 4,
   "id": "08598125-a0b9-4719-b545-34800887083b",
   "metadata": {},
   "outputs": [],
   "source": [
    "driver = webdriver.Chrome('/Users/josemartinez/Desktop/chromedriver')  \n",
    "driver.get(\"http://icpcstatepages.org/Alabama/info/\")"
   ]
  },
  {
   "cell_type": "code",
   "execution_count": 7,
   "id": "99f718c6-96d6-4de6-9437-1867932578ce",
   "metadata": {},
   "outputs": [],
   "source": [
    "# Located part of the page where information about the official is found. Within this block, there are individual lines with their name, address, phone, etc.\n",
    "email_element = driver.find_elements_by_xpath('/html/body/div/div[2]/div[1]/div[2]/div/div[3]/div/blockquote[1]/table/tbody/tr/td[1]/div/p')"
   ]
  },
  {
   "cell_type": "code",
   "execution_count": 15,
   "id": "92565805-2e28-4baf-9b60-83730ade8b37",
   "metadata": {},
   "outputs": [],
   "source": [
    "# First time using comprehension. What this is doing is pulling out the text from each line of the block above, and putting it into a list.\n",
    "# So far, there is only one item on this list.\n",
    "email = [x.text for x in email_element]"
   ]
  },
  {
   "cell_type": "code",
   "execution_count": 22,
   "id": "7465b171-84ae-4000-b626-769861a82899",
   "metadata": {},
   "outputs": [
    {
     "data": {
      "text/plain": [
       "['Nancy T. Buckner, Commissioner\\nState Department of Human Resources\\nS. Gordon Persons Building, 2nd Floor\\n50 Ripley Street\\nMontgomery, AL 36130\\nTel: (334) 242-1160\\nEmail: Nancy.Buckner@dhr.alabama.gov']"
      ]
     },
     "execution_count": 22,
     "metadata": {},
     "output_type": "execute_result"
    }
   ],
   "source": [
    "email"
   ]
  },
  {
   "cell_type": "code",
   "execution_count": 18,
   "id": "7ebf213d-7595-44da-98b1-094713741911",
   "metadata": {},
   "outputs": [],
   "source": [
    "# I want each item to be separated and take off the '\\n', so I clean it up.\n",
    "email_new = email[0].split('\\n')"
   ]
  },
  {
   "cell_type": "code",
   "execution_count": 24,
   "id": "c40abc8c-9f82-4590-89eb-1944fb1941b6",
   "metadata": {},
   "outputs": [
    {
     "data": {
      "text/plain": [
       "7"
      ]
     },
     "execution_count": 24,
     "metadata": {},
     "output_type": "execute_result"
    }
   ],
   "source": [
    "# Checking how many items after the split\n",
    "len(email_new)"
   ]
  },
  {
   "cell_type": "code",
   "execution_count": 20,
   "id": "e9e87701-50e3-4b9e-9b42-a2eb41bb66ca",
   "metadata": {},
   "outputs": [
    {
     "data": {
      "text/plain": [
       "['Nancy T. Buckner, Commissioner',\n",
       " 'State Department of Human Resources',\n",
       " 'S. Gordon Persons Building, 2nd Floor',\n",
       " '50 Ripley Street',\n",
       " 'Montgomery, AL 36130',\n",
       " 'Tel: (334) 242-1160',\n",
       " 'Email: Nancy.Buckner@dhr.alabama.gov']"
      ]
     },
     "execution_count": 20,
     "metadata": {},
     "output_type": "execute_result"
    }
   ],
   "source": [
    "email_new"
   ]
  },
  {
   "cell_type": "code",
   "execution_count": 202,
   "id": "936ba6f4-5665-4362-a38c-ec753f368ee4",
   "metadata": {},
   "outputs": [],
   "source": [
    "df = pd.DataFrame(email_new)"
   ]
  },
  {
   "cell_type": "code",
   "execution_count": 203,
   "id": "0dbb7c9a-3068-44f8-94c4-77fb78564cdf",
   "metadata": {},
   "outputs": [],
   "source": [
    "df.to_csv('/Users/josemartinez/Desktop/Code/ICPC_Scraping/state_files/ICPC_emails.csv')"
   ]
  },
  {
   "cell_type": "markdown",
   "id": "3af25740-afc9-4374-8f39-43dedd107814",
   "metadata": {},
   "source": [
    "# Now that I practiced with one state, below I start looping through every website."
   ]
  },
  {
   "cell_type": "code",
   "execution_count": 14,
   "id": "5a82f285-4076-476d-9694-d4e409d127ac",
   "metadata": {},
   "outputs": [],
   "source": [
    "# The csv I reference here has a list of every website needed to scrape each state.\n",
    "list_url = pd.read_csv(\"/Users/josemartinez/Desktop/Code/ICPC_Scraping/icpc_websites - Sheet1.csv\")"
   ]
  },
  {
   "cell_type": "code",
   "execution_count": 15,
   "id": "bab0b33c-3b37-48ed-9bb5-cf30458a09f2",
   "metadata": {},
   "outputs": [
    {
     "data": {
      "text/plain": [
       "Index(['base', 'state', 'info', 'url'], dtype='object')"
      ]
     },
     "execution_count": 15,
     "metadata": {},
     "output_type": "execute_result"
    }
   ],
   "source": [
    "list_url.columns"
   ]
  },
  {
   "cell_type": "code",
   "execution_count": 16,
   "id": "a205737e-d39f-487a-a056-7b12c05b94d9",
   "metadata": {},
   "outputs": [],
   "source": [
    "#Pull out just the url\n",
    "url = list_url['url']"
   ]
  },
  {
   "cell_type": "code",
   "execution_count": 17,
   "id": "5ec6eabd-491e-41d3-a84c-69cb9ec57438",
   "metadata": {},
   "outputs": [
    {
     "data": {
      "text/plain": [
       "0           http://icpcstatepages.org/Alabama/info\n",
       "1            http://icpcstatepages.org/Alaska/info\n",
       "2           http://icpcstatepages.org/Arizona/info\n",
       "3          http://icpcstatepages.org/Arkansas/info\n",
       "4        http://icpcstatepages.org/California/info\n",
       "5          http://icpcstatepages.org/Colorado/info\n",
       "6       http://icpcstatepages.org/Connecticut/info\n",
       "7          http://icpcstatepages.org/Delaware/info\n",
       "8           http://icpcstatepages.org/Florida/info\n",
       "9           http://icpcstatepages.org/Georgia/info\n",
       "10           http://icpcstatepages.org/Hawaii/info\n",
       "11            http://icpcstatepages.org/Idaho/info\n",
       "12         http://icpcstatepages.org/Illinois/info\n",
       "13          http://icpcstatepages.org/Indiana/info\n",
       "14             http://icpcstatepages.org/Iowa/info\n",
       "15           http://icpcstatepages.org/Kansas/info\n",
       "16         http://icpcstatepages.org/Kentucky/info\n",
       "17        http://icpcstatepages.org/Louisiana/info\n",
       "18            http://icpcstatepages.org/Maine/info\n",
       "19         http://icpcstatepages.org/Maryland/info\n",
       "20    http://icpcstatepages.org/Massachusetts/info\n",
       "21         http://icpcstatepages.org/Michigan/info\n",
       "22        http://icpcstatepages.org/Minnesota/info\n",
       "23      http://icpcstatepages.org/Mississippi/info\n",
       "24         http://icpcstatepages.org/Missouri/info\n",
       "25          http://icpcstatepages.org/Montana/info\n",
       "26         http://icpcstatepages.org/Nebraska/info\n",
       "27           http://icpcstatepages.org/Nevada/info\n",
       "28     http://icpcstatepages.org/NewHampshire/info\n",
       "29        http://icpcstatepages.org/NewJersey/info\n",
       "30        http://icpcstatepages.org/NewMexico/info\n",
       "31          http://icpcstatepages.org/NewYork/info\n",
       "32    http://icpcstatepages.org/NorthCarolina/info\n",
       "33      http://icpcstatepages.org/NorthDakota/info\n",
       "34             http://icpcstatepages.org/Ohio/info\n",
       "35         http://icpcstatepages.org/Oklahoma/info\n",
       "36           http://icpcstatepages.org/Oregon/info\n",
       "37     http://icpcstatepages.org/Pennsylvania/info\n",
       "38      http://icpcstatepages.org/RhodeIsland/info\n",
       "39    http://icpcstatepages.org/SouthCarolina/info\n",
       "40      http://icpcstatepages.org/SouthDakota/info\n",
       "41        http://icpcstatepages.org/Tennessee/info\n",
       "42            http://icpcstatepages.org/Texas/info\n",
       "43             http://icpcstatepages.org/Utah/info\n",
       "44          http://icpcstatepages.org/Vermont/info\n",
       "45         http://icpcstatepages.org/Virginia/info\n",
       "46       http://icpcstatepages.org/Washington/info\n",
       "47     http://icpcstatepages.org/WestVirginia/info\n",
       "48        http://icpcstatepages.org/Wisconsin/info\n",
       "49          http://icpcstatepages.org/Wyoming/info\n",
       "Name: url, dtype: object"
      ]
     },
     "execution_count": 17,
     "metadata": {},
     "output_type": "execute_result"
    }
   ],
   "source": [
    "url"
   ]
  },
  {
   "cell_type": "code",
   "execution_count": 18,
   "id": "429e5ec4-d428-47c8-8092-fc1f02ee5e85",
   "metadata": {},
   "outputs": [],
   "source": [
    "# Turn it into list so that I can loop through it.\n",
    "websites = url.values.tolist()"
   ]
  },
  {
   "cell_type": "code",
   "execution_count": 19,
   "id": "89b4a799-116e-4acd-841b-781d1b0f4938",
   "metadata": {},
   "outputs": [
    {
     "data": {
      "text/plain": [
       "['http://icpcstatepages.org/Alabama/info',\n",
       " 'http://icpcstatepages.org/Alaska/info',\n",
       " 'http://icpcstatepages.org/Arizona/info',\n",
       " 'http://icpcstatepages.org/Arkansas/info',\n",
       " 'http://icpcstatepages.org/California/info',\n",
       " 'http://icpcstatepages.org/Colorado/info',\n",
       " 'http://icpcstatepages.org/Connecticut/info',\n",
       " 'http://icpcstatepages.org/Delaware/info',\n",
       " 'http://icpcstatepages.org/Florida/info',\n",
       " 'http://icpcstatepages.org/Georgia/info',\n",
       " 'http://icpcstatepages.org/Hawaii/info',\n",
       " 'http://icpcstatepages.org/Idaho/info',\n",
       " 'http://icpcstatepages.org/Illinois/info',\n",
       " 'http://icpcstatepages.org/Indiana/info',\n",
       " 'http://icpcstatepages.org/Iowa/info',\n",
       " 'http://icpcstatepages.org/Kansas/info',\n",
       " 'http://icpcstatepages.org/Kentucky/info',\n",
       " 'http://icpcstatepages.org/Louisiana/info',\n",
       " 'http://icpcstatepages.org/Maine/info',\n",
       " 'http://icpcstatepages.org/Maryland/info',\n",
       " 'http://icpcstatepages.org/Massachusetts/info',\n",
       " 'http://icpcstatepages.org/Michigan/info',\n",
       " 'http://icpcstatepages.org/Minnesota/info',\n",
       " 'http://icpcstatepages.org/Mississippi/info',\n",
       " 'http://icpcstatepages.org/Missouri/info',\n",
       " 'http://icpcstatepages.org/Montana/info',\n",
       " 'http://icpcstatepages.org/Nebraska/info',\n",
       " 'http://icpcstatepages.org/Nevada/info',\n",
       " 'http://icpcstatepages.org/NewHampshire/info',\n",
       " 'http://icpcstatepages.org/NewJersey/info',\n",
       " 'http://icpcstatepages.org/NewMexico/info',\n",
       " 'http://icpcstatepages.org/NewYork/info',\n",
       " 'http://icpcstatepages.org/NorthCarolina/info',\n",
       " 'http://icpcstatepages.org/NorthDakota/info',\n",
       " 'http://icpcstatepages.org/Ohio/info',\n",
       " 'http://icpcstatepages.org/Oklahoma/info',\n",
       " 'http://icpcstatepages.org/Oregon/info',\n",
       " 'http://icpcstatepages.org/Pennsylvania/info',\n",
       " 'http://icpcstatepages.org/RhodeIsland/info',\n",
       " 'http://icpcstatepages.org/SouthCarolina/info',\n",
       " 'http://icpcstatepages.org/SouthDakota/info',\n",
       " 'http://icpcstatepages.org/Tennessee/info',\n",
       " 'http://icpcstatepages.org/Texas/info',\n",
       " 'http://icpcstatepages.org/Utah/info',\n",
       " 'http://icpcstatepages.org/Vermont/info',\n",
       " 'http://icpcstatepages.org/Virginia/info',\n",
       " 'http://icpcstatepages.org/Washington/info',\n",
       " 'http://icpcstatepages.org/WestVirginia/info',\n",
       " 'http://icpcstatepages.org/Wisconsin/info',\n",
       " 'http://icpcstatepages.org/Wyoming/info']"
      ]
     },
     "execution_count": 19,
     "metadata": {},
     "output_type": "execute_result"
    }
   ],
   "source": [
    "websites"
   ]
  },
  {
   "cell_type": "code",
   "execution_count": 22,
   "id": "712cdcd6-6084-4001-aa0b-af398dd565f3",
   "metadata": {},
   "outputs": [],
   "source": [
    "for l in websites:\n",
    "    n = l[26:30]"
   ]
  },
  {
   "cell_type": "code",
   "execution_count": 23,
   "id": "65b39a1e-c4cc-483e-b134-c5ffdcd3ed81",
   "metadata": {},
   "outputs": [],
   "source": [
    "for x in websites:\n",
    "    driver = webdriver.Chrome('/Users/josemartinez/Desktop/chromedriver')  \n",
    "    driver.get(x)\n",
    "    element = driver.find_elements_by_xpath('/html/body/div/div[2]/div[1]/div[2]/div/div[3]/div/blockquote[1]/table/tbody/tr')\n",
    "    email_text = [s.text for s in element]\n",
    "    new_email = email_text[0].split('\\n')\n",
    "    df = pd.DataFrame(new_email)    \n",
    "    name = x[26:30] # This pulls out part of the state name from each url to put it at thend of csv file name as show below.\n",
    "    csv_name = f'/Users/josemartinez/Desktop/Code/ICPC_Scraping/state_files/{name}.csv'\n",
    "    df.to_csv(csv_name)"
   ]
  },
  {
   "cell_type": "code",
   "execution_count": 495,
   "id": "72a3dd80-4aeb-481d-86b6-0cab08c576b5",
   "metadata": {},
   "outputs": [],
   "source": [
    "# Above, I created a csv file for each state. Using the terminal, I combined them all into one huge combined.csv.\n",
    "# Then, I cleaned the file a bit within excel and renamed it ICPC_emails which I'm opening here.\n",
    "emails = pd.read_csv('state_files/ICPC_emails.csv')"
   ]
  },
  {
   "cell_type": "code",
   "execution_count": 496,
   "id": "34f3096f-9da4-4d61-8f3b-8f416642ca6f",
   "metadata": {},
   "outputs": [
    {
     "data": {
      "text/plain": [
       "(799, 1)"
      ]
     },
     "execution_count": 496,
     "metadata": {},
     "output_type": "execute_result"
    }
   ],
   "source": [
    "emails.shape"
   ]
  },
  {
   "cell_type": "code",
   "execution_count": 497,
   "id": "26b74181-3024-4f07-8320-3297a65959b6",
   "metadata": {},
   "outputs": [
    {
     "data": {
      "text/plain": [
       "Index(['Compact Administrator'], dtype='object')"
      ]
     },
     "execution_count": 497,
     "metadata": {},
     "output_type": "execute_result"
    }
   ],
   "source": [
    "emails.columns"
   ]
  },
  {
   "cell_type": "code",
   "execution_count": 498,
   "id": "0ea65517-0e16-44a6-81c0-dfc42ced5356",
   "metadata": {},
   "outputs": [],
   "source": [
    "# I wanted only emails, so I searched for any values that contained \"@\"\n",
    "list_emails = emails[emails['Compact Administrator'].str.contains('@', na=False)]"
   ]
  },
  {
   "cell_type": "code",
   "execution_count": 499,
   "id": "f419b463-ac39-4f58-a312-bb3fc0e8ba05",
   "metadata": {},
   "outputs": [
    {
     "data": {
      "text/plain": [
       "(97, 1)"
      ]
     },
     "execution_count": 499,
     "metadata": {},
     "output_type": "execute_result"
    }
   ],
   "source": [
    "list_emails.shape"
   ]
  },
  {
   "cell_type": "code",
   "execution_count": 500,
   "id": "a0eaa8a2-f8ed-4908-b654-e629e4b299c8",
   "metadata": {},
   "outputs": [],
   "source": [
    "# A lot of the emails are dirty. some have 'Email:' attached to them, or some have phone numbers attached, so I have to clean it up.\n",
    "clean_emails = list_emails['Compact Administrator'].str.replace('Email:','',regex=True)\\\n",
    ".str.replace('E-Mail:','',regex=True).str.replace('Tel:',\"\",regex=True).str.replace('E-mail:',\"\",regex=True)\\\n",
    ".str.replace('242-1371',\"\",regex=True).str.replace('ALL emails should go to ',\"\",regex=True).str.replace(\"(334)\",\"\",regex=True)\\\n",
    ".str.replace('Email -',\"\",regex=True).str.replace(\"Please send ALL PRTF requests to \",\"\",regex=True).str.replace(' Please send ALL PRTF requests to',\"\",regex=True)\\\n",
    ".str.replace(' If you are a NEICE participating state please utilize NEICE for all correspondence, if you are NOT a NEICE participating state please utilize traditional mailing/electronic mailing/or UPS/FED EX. If you choose to utilize electronic correspondence(this correspondence is not secure or encrypted) please utilize the dedicated ICPC mailbox at DCFS.InterstateCompactGeneral@illinois.gov DO NOT send correspondence for referrals/placement notification or progress reports to a specified coordinator/Deputy compact administrator or Compact Administrator.'\n",
    ",\"\",regex=True)\\\n",
    ".str.replace('With questions or concerns please contact Mical Peterson@651-431-4728','',regex=True)\\\n",
    ".str.replace('All Incoming ICPC requests and RTCs please email to the State dcfs_icpc@utah.gov','',regex=True)"
   ]
  },
  {
   "cell_type": "code",
   "execution_count": 501,
   "id": "d2fc3864-8f5f-419b-8907-86060815e369",
   "metadata": {},
   "outputs": [
    {
     "data": {
      "text/plain": [
       "(97,)"
      ]
     },
     "execution_count": 501,
     "metadata": {},
     "output_type": "execute_result"
    }
   ],
   "source": [
    "clean_emails.shape"
   ]
  },
  {
   "cell_type": "code",
   "execution_count": 502,
   "id": "4919999e-cf8b-4f57-93bd-e5e81fd21a20",
   "metadata": {},
   "outputs": [],
   "source": [
    "# More cleaning must be done!\n",
    "new_clean_emails = clean_emails.to_frame().reset_index()"
   ]
  },
  {
   "cell_type": "code",
   "execution_count": 504,
   "id": "69d949db-52fd-4678-bcb7-6b2725d4d0b7",
   "metadata": {},
   "outputs": [],
   "source": [
    "new_clean_emails.at[67,'Compact Administrator'] = 'Heather.Spencer@jfs.ohio.gov' #very specific cleaning to do. these rows had two emails in the values and most were duplicates of others.\n",
    "new_clean_emails.at[1,'Compact Administrator'] = 'Elizabeth.holliday@dhr.alabama.gov'\n",
    "new_clean_emails.at[46,'Compact Administrator'] = 'krock@mt.gov'\n",
    "new_clean_emails.at[47,'Compact Administrator'] = 'lhedges@mt.gov'\n",
    "new_clean_emails.at[48,'Compact Administrator'] = 'kelley.tippett@mt.gov'\n",
    "new_clean_emails = new_clean_emails.drop(19) #empty rows\n",
    "new_clean_emails = new_clean_emails.drop(41)\n",
    "new_clean_emails = new_clean_emails.drop(86)\n",
    "new_clean_emails = new_clean_emails.drop('index', 1) #don't want the index column\n",
    "new_clean_emails = new_clean_emails.drop_duplicates(keep='first', inplace=False) #duplicates"
   ]
  },
  {
   "cell_type": "code",
   "execution_count": 505,
   "id": "57729c9f-432a-4374-b35d-a82d1746d116",
   "metadata": {},
   "outputs": [],
   "source": [
    "new_clean_emails = new_clean_emails['Compact Administrator'].str.replace(' ','')"
   ]
  },
  {
   "cell_type": "code",
   "execution_count": 506,
   "id": "4723fdbe-2172-4e56-a359-8f8c24c5f7ed",
   "metadata": {},
   "outputs": [],
   "source": [
    "final_emails = new_clean_emails.drop_duplicates(keep='first', inplace=False)"
   ]
  },
  {
   "cell_type": "code",
   "execution_count": 507,
   "id": "27c191f8-15cd-4113-9527-9ada808d06bb",
   "metadata": {},
   "outputs": [
    {
     "data": {
      "text/plain": [
       "0           Nancy.Buckner@dhr.alabama.gov\n",
       "1      Elizabeth.holliday@dhr.alabama.gov\n",
       "2                    lisa.marx@alaska.gov\n",
       "3                   David.Minko@AZDCS.GOV\n",
       "4              Calvin.Wilbon@Arkansas.gov\n",
       "5           Gwendolyn.Parker@Arkansas.gov\n",
       "6                Mary.griffin@state.co.us\n",
       "7                 commissioner.dcf@ct.gov\n",
       "8                  Natalia.Liriano@ct.gov\n",
       "9              francis.casey@delaware.gov\n",
       "10          christine.norris@delaware.gov\n",
       "11            erin.breitigan@delaware.gov\n",
       "12          Scott.Boland@myflfamilies.com\n",
       "13    heather.richardson@myflfamilies.com\n",
       "14                  ICPC@myflfamilies.com\n",
       "15              glenene.lanier@dhs.ga.gov\n",
       "16             niesha.robinson@dhs.ga.gov\n",
       "17                idahoicpc@dhw.idaho.gov\n",
       "18            Michelle.Grove@illinois.gov\n",
       "20               donald.travis@dcs.in.gov\n",
       "21                waylon.james@dcs.in.gov\n",
       "22                ICPCUnit.DCS@dcs.in.gov\n",
       "23               iowaicpc@dhs.state.ia.us\n",
       "24                cbockes@dhs.state.ia.us\n",
       "26                ktorres@dhs.state.ia.us\n",
       "28                  lynnea.kaufman@ks.gov\n",
       "29                 Jessica.guthery@ks.gov\n",
       "30                      DCF.KSICPC@KS.GOV\n",
       "31                 CHFS.INTERSTATE@KY.GOV\n",
       "32             Michelle.Faust.DCFS@LA.GOV\n",
       "33               Mercy.Butler.DCFS@LA.GOV\n",
       "34             robert.blanchard@maine.gov\n",
       "35              james.pelletier@maine.gov\n",
       "36           valerie.douglas@Maryland.Gov\n",
       "37         charles.gentemann@Maryland.Gov\n",
       "38               staverne.miller@mass.gov\n",
       "39                sharon.f.curry@mass.gov\n",
       "40             MDHHS-MI-ICPC@Michigan.gov\n",
       "42             Ashley.baltich@state.mn.us\n",
       "43                    MN.ICPC@state.mn.us\n",
       "44              Ashley.holmes@state.mn.us\n",
       "46                           krock@mt.gov\n",
       "47                         lhedges@mt.gov\n",
       "48                  kelley.tippett@mt.gov\n",
       "49                          mticpc@mt.gov\n",
       "50                 DHHS.ICPC@nebraska.gov\n",
       "53                     NVICPC@dcfs.nv.gov\n",
       "54                    sbarnes@dcfs.nv.gov\n",
       "55                Kara.Buxton@dhhs.nh.gov\n",
       "56           Caitlyn.Bickford@dhhs.nh.gov\n",
       "57                gilbert.soto@dcf.nj.gov\n",
       "58            gayle.williamson@dcf.nj.gov\n",
       "59               monica.nelson@dcf.nj.gov\n",
       "60                CYFD.NMICPC@state.nm.us\n",
       "63            ocfs.sm.nysicpc@ocfs.ny.gov\n",
       "65                       kvorachek@nd.gov\n",
       "66          Ohio_ICPC_Office@jfs.ohio.gov\n",
       "67           Heather.Spencer@jfs.ohio.gov\n",
       "68                misty.pollard@okdhs.org\n",
       "69                   lora.adams@okdhs.org\n",
       "70              nina.levingston@okdhs.org\n",
       "71                  shaji.poulo@okdhs.org\n",
       "72              cheryl.castillo@okdhs.org\n",
       "73          vera.james@dhsoha.state.or.us\n",
       "74                      wlautsbaug@pa.gov\n",
       "75                       lschumber@pa.gov\n",
       "76               Martha.Dolan@dcyf.ri.gov\n",
       "77              Lori.DAlessio@dcyf.ri.gov\n",
       "78        Marianne.Grondalski@dcyf.ri.gov\n",
       "79             Pamela.bennett@state.sd.us\n",
       "80                Stacy.Nemec@state.sd.us\n",
       "81                   TNICPC.Ei-DCS@tn.gov\n",
       "82              Amber.Hart@dfps.texas.gov\n",
       "83            Denise.Ceder@dfps.Texas.gov\n",
       "84                       spahulu@utah.gov\n",
       "85                       atafoya@utah.gov\n",
       "87          patricia.casanova@vermont.gov\n",
       "88          commissioner@dss.virginia.gov\n",
       "89          Tameka1.Rose@dss.virginia.gov\n",
       "90                 maya.brown@dcyf.wa.gov\n",
       "91            shannon.freeman@dcyf.wa.gov\n",
       "92                   Linda.M.Watts@wv.gov\n",
       "93         Andrea.N.RamseyMitchell@wv.gov\n",
       "94          carrie.pedersen@wisconsin.gov\n",
       "95             kendra.allen@wisconsin.gov\n",
       "96                maureen.clifton@wyo.gov\n",
       "Name: Compact Administrator, dtype: object"
      ]
     },
     "execution_count": 507,
     "metadata": {},
     "output_type": "execute_result"
    }
   ],
   "source": [
    "final_emails"
   ]
  },
  {
   "cell_type": "code",
   "execution_count": 508,
   "id": "1dbc792b-a822-41df-b70e-30fcf89736f0",
   "metadata": {},
   "outputs": [],
   "source": [
    "# Let's put it into a csv now.\n",
    "final_emails.to_csv('Cleaned_Emails.csv')"
   ]
  },
  {
   "cell_type": "code",
   "execution_count": null,
   "id": "9d350125-952a-48b8-a921-d66a66542b14",
   "metadata": {},
   "outputs": [],
   "source": []
  }
 ],
 "metadata": {
  "kernelspec": {
   "display_name": "Python 3",
   "language": "python",
   "name": "python3"
  },
  "language_info": {
   "codemirror_mode": {
    "name": "ipython",
    "version": 3
   },
   "file_extension": ".py",
   "mimetype": "text/x-python",
   "name": "python",
   "nbconvert_exporter": "python",
   "pygments_lexer": "ipython3",
   "version": "3.8.8"
  }
 },
 "nbformat": 4,
 "nbformat_minor": 5
}
